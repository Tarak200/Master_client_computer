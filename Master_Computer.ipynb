{
  "nbformat": 4,
  "nbformat_minor": 0,
  "metadata": {
    "colab": {
      "provenance": []
    },
    "kernelspec": {
      "name": "python3",
      "display_name": "Python 3"
    },
    "language_info": {
      "name": "python"
    }
  },
  "cells": [
    {
      "cell_type": "code",
      "execution_count": 2,
      "metadata": {
        "id": "5AcyMtATGNS6"
      },
      "outputs": [],
      "source": [
        "import time     # helps in representing time in code and also runtime of code\n",
        "import os\n",
        "import sys      #helps in interacting strongly with interpreter\n",
        "import socket       #socket module helps in linking the host and client computer nodes on server"
      ]
    },
    {
      "cell_type": "code",
      "source": [
        "s = socket.socket()\n",
        "host = socket.gethostname()\n",
        "port = 8081\n",
        "s.bind(('',port))     #the above port is used to communicate for new pc\n",
        "s.listen()          #searches for new computers connected to the same network as host \n",
        "conn, addr = s.accept()         #carries the address and a new socket object for computer on server and address of it. address is a tuple will contain (host, port) for IPv4 connections or (host, port, flowinfo, scopeid) for IPv6\n",
        "#the above line works when the slave computer accepts our request\n",
        "print(addr, \"is on network\")\n",
        "command = input(str(\"Enter Command:\"))\n",
        "conn.send(command.encode())     #we use string.encode inbuilt function to secure the data by encrypting it and this function sends our msg to the target computer.\n",
        "print(\"command has been sent successfully\")\n",
        "data=conn.recv(1024)     #it receives data of 1024 bytes(buffer size) from target computer. If target computer sending node closes, then it will send an empty string."
      ],
      "metadata": {
        "id": "EzDB02mhIFZp"
      },
      "execution_count": null,
      "outputs": []
    },
    {
      "cell_type": "code",
      "source": [
        "if data:\n",
        "  print(\"command received and executed successfully.\")\n",
        "  "
      ],
      "metadata": {
        "id": "yzBLD9B0JNZT"
      },
      "execution_count": null,
      "outputs": []
    }
  ]
}