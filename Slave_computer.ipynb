{
  "nbformat": 4,
  "nbformat_minor": 0,
  "metadata": {
    "colab": {
      "provenance": []
    },
    "kernelspec": {
      "name": "python3",
      "display_name": "Python 3"
    },
    "language_info": {
      "name": "python"
    }
  },
  "cells": [
    {
      "cell_type": "code",
      "execution_count": null,
      "metadata": {
        "id": "vuaKpqc6N1R7"
      },
      "outputs": [],
      "source": [
        "import time\n",
        "import socket\n",
        "import sys\n",
        "import os\n"
      ]
    },
    {
      "cell_type": "code",
      "source": [
        "s = socket.socket()\n",
        "host = \"127.0.0.1\"   #this has to be our ip address when connected to network so that we can communicate with the slave computer\n",
        "port = 8080    #we are assigning 8080 port to the slave computer for communicating with master computer\n",
        "s.connect((host,port))\n",
        "print(\"connected to the Server.\")\n",
        "command = s.recv(1024)\n",
        "command = command.decode()    # we use decode for decrypting the command\n",
        "if command == \"open\":       #assuming we have sent the open command\n",
        "print(\"command is:\", command)\n",
        "s.send(\"Command received\".encode())\n",
        "os.system('ls')"
      ],
      "metadata": {
        "id": "t-jevll9N-Na"
      },
      "execution_count": null,
      "outputs": []
    }
  ]
}